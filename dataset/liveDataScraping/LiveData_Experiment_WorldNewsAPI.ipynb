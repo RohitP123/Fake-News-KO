{
  "nbformat": 4,
  "nbformat_minor": 0,
  "metadata": {
    "colab": {
      "provenance": [],
      "gpuType": "T4"
    },
    "kernelspec": {
      "name": "python3",
      "display_name": "Python 3"
    },
    "language_info": {
      "name": "python"
    },
    "accelerator": "GPU",
    "widgets": {
      "application/vnd.jupyter.widget-state+json": {
        "92164cace87144009303c7a45cd2e586": {
          "model_module": "@jupyter-widgets/controls",
          "model_name": "HBoxModel",
          "model_module_version": "1.5.0",
          "state": {
            "_dom_classes": [],
            "_model_module": "@jupyter-widgets/controls",
            "_model_module_version": "1.5.0",
            "_model_name": "HBoxModel",
            "_view_count": null,
            "_view_module": "@jupyter-widgets/controls",
            "_view_module_version": "1.5.0",
            "_view_name": "HBoxView",
            "box_style": "",
            "children": [
              "IPY_MODEL_b5380ff51f604dd49e7f2f5b353d859d",
              "IPY_MODEL_bc4a00e6fee94b3fa91257a0df9cb2a4",
              "IPY_MODEL_80e5bdb65bcf41099ef4cee5d84a3d68"
            ],
            "layout": "IPY_MODEL_21b14d25f6294ef4a0ef409b162ef958"
          }
        },
        "b5380ff51f604dd49e7f2f5b353d859d": {
          "model_module": "@jupyter-widgets/controls",
          "model_name": "HTMLModel",
          "model_module_version": "1.5.0",
          "state": {
            "_dom_classes": [],
            "_model_module": "@jupyter-widgets/controls",
            "_model_module_version": "1.5.0",
            "_model_name": "HTMLModel",
            "_view_count": null,
            "_view_module": "@jupyter-widgets/controls",
            "_view_module_version": "1.5.0",
            "_view_name": "HTMLView",
            "description": "",
            "description_tooltip": null,
            "layout": "IPY_MODEL_aac2054f641a495390e40686be0c3fe2",
            "placeholder": "​",
            "style": "IPY_MODEL_1abc8f7aa41e4228a85d5759cabe048e",
            "value": "Batches: 100%"
          }
        },
        "bc4a00e6fee94b3fa91257a0df9cb2a4": {
          "model_module": "@jupyter-widgets/controls",
          "model_name": "FloatProgressModel",
          "model_module_version": "1.5.0",
          "state": {
            "_dom_classes": [],
            "_model_module": "@jupyter-widgets/controls",
            "_model_module_version": "1.5.0",
            "_model_name": "FloatProgressModel",
            "_view_count": null,
            "_view_module": "@jupyter-widgets/controls",
            "_view_module_version": "1.5.0",
            "_view_name": "ProgressView",
            "bar_style": "success",
            "description": "",
            "description_tooltip": null,
            "layout": "IPY_MODEL_d556314ad28f438c8b497285eca07cf4",
            "max": 71,
            "min": 0,
            "orientation": "horizontal",
            "style": "IPY_MODEL_b3dc70eeec4b4d72a1bd2c9d36b627cd",
            "value": 71
          }
        },
        "80e5bdb65bcf41099ef4cee5d84a3d68": {
          "model_module": "@jupyter-widgets/controls",
          "model_name": "HTMLModel",
          "model_module_version": "1.5.0",
          "state": {
            "_dom_classes": [],
            "_model_module": "@jupyter-widgets/controls",
            "_model_module_version": "1.5.0",
            "_model_name": "HTMLModel",
            "_view_count": null,
            "_view_module": "@jupyter-widgets/controls",
            "_view_module_version": "1.5.0",
            "_view_name": "HTMLView",
            "description": "",
            "description_tooltip": null,
            "layout": "IPY_MODEL_b426a75436794a8bae012000c2f9e498",
            "placeholder": "​",
            "style": "IPY_MODEL_7aac8ab8d99844ccb72b784dba3961c6",
            "value": " 71/71 [00:03&lt;00:00, 23.63it/s]"
          }
        },
        "21b14d25f6294ef4a0ef409b162ef958": {
          "model_module": "@jupyter-widgets/base",
          "model_name": "LayoutModel",
          "model_module_version": "1.2.0",
          "state": {
            "_model_module": "@jupyter-widgets/base",
            "_model_module_version": "1.2.0",
            "_model_name": "LayoutModel",
            "_view_count": null,
            "_view_module": "@jupyter-widgets/base",
            "_view_module_version": "1.2.0",
            "_view_name": "LayoutView",
            "align_content": null,
            "align_items": null,
            "align_self": null,
            "border": null,
            "bottom": null,
            "display": null,
            "flex": null,
            "flex_flow": null,
            "grid_area": null,
            "grid_auto_columns": null,
            "grid_auto_flow": null,
            "grid_auto_rows": null,
            "grid_column": null,
            "grid_gap": null,
            "grid_row": null,
            "grid_template_areas": null,
            "grid_template_columns": null,
            "grid_template_rows": null,
            "height": null,
            "justify_content": null,
            "justify_items": null,
            "left": null,
            "margin": null,
            "max_height": null,
            "max_width": null,
            "min_height": null,
            "min_width": null,
            "object_fit": null,
            "object_position": null,
            "order": null,
            "overflow": null,
            "overflow_x": null,
            "overflow_y": null,
            "padding": null,
            "right": null,
            "top": null,
            "visibility": null,
            "width": null
          }
        },
        "aac2054f641a495390e40686be0c3fe2": {
          "model_module": "@jupyter-widgets/base",
          "model_name": "LayoutModel",
          "model_module_version": "1.2.0",
          "state": {
            "_model_module": "@jupyter-widgets/base",
            "_model_module_version": "1.2.0",
            "_model_name": "LayoutModel",
            "_view_count": null,
            "_view_module": "@jupyter-widgets/base",
            "_view_module_version": "1.2.0",
            "_view_name": "LayoutView",
            "align_content": null,
            "align_items": null,
            "align_self": null,
            "border": null,
            "bottom": null,
            "display": null,
            "flex": null,
            "flex_flow": null,
            "grid_area": null,
            "grid_auto_columns": null,
            "grid_auto_flow": null,
            "grid_auto_rows": null,
            "grid_column": null,
            "grid_gap": null,
            "grid_row": null,
            "grid_template_areas": null,
            "grid_template_columns": null,
            "grid_template_rows": null,
            "height": null,
            "justify_content": null,
            "justify_items": null,
            "left": null,
            "margin": null,
            "max_height": null,
            "max_width": null,
            "min_height": null,
            "min_width": null,
            "object_fit": null,
            "object_position": null,
            "order": null,
            "overflow": null,
            "overflow_x": null,
            "overflow_y": null,
            "padding": null,
            "right": null,
            "top": null,
            "visibility": null,
            "width": null
          }
        },
        "1abc8f7aa41e4228a85d5759cabe048e": {
          "model_module": "@jupyter-widgets/controls",
          "model_name": "DescriptionStyleModel",
          "model_module_version": "1.5.0",
          "state": {
            "_model_module": "@jupyter-widgets/controls",
            "_model_module_version": "1.5.0",
            "_model_name": "DescriptionStyleModel",
            "_view_count": null,
            "_view_module": "@jupyter-widgets/base",
            "_view_module_version": "1.2.0",
            "_view_name": "StyleView",
            "description_width": ""
          }
        },
        "d556314ad28f438c8b497285eca07cf4": {
          "model_module": "@jupyter-widgets/base",
          "model_name": "LayoutModel",
          "model_module_version": "1.2.0",
          "state": {
            "_model_module": "@jupyter-widgets/base",
            "_model_module_version": "1.2.0",
            "_model_name": "LayoutModel",
            "_view_count": null,
            "_view_module": "@jupyter-widgets/base",
            "_view_module_version": "1.2.0",
            "_view_name": "LayoutView",
            "align_content": null,
            "align_items": null,
            "align_self": null,
            "border": null,
            "bottom": null,
            "display": null,
            "flex": null,
            "flex_flow": null,
            "grid_area": null,
            "grid_auto_columns": null,
            "grid_auto_flow": null,
            "grid_auto_rows": null,
            "grid_column": null,
            "grid_gap": null,
            "grid_row": null,
            "grid_template_areas": null,
            "grid_template_columns": null,
            "grid_template_rows": null,
            "height": null,
            "justify_content": null,
            "justify_items": null,
            "left": null,
            "margin": null,
            "max_height": null,
            "max_width": null,
            "min_height": null,
            "min_width": null,
            "object_fit": null,
            "object_position": null,
            "order": null,
            "overflow": null,
            "overflow_x": null,
            "overflow_y": null,
            "padding": null,
            "right": null,
            "top": null,
            "visibility": null,
            "width": null
          }
        },
        "b3dc70eeec4b4d72a1bd2c9d36b627cd": {
          "model_module": "@jupyter-widgets/controls",
          "model_name": "ProgressStyleModel",
          "model_module_version": "1.5.0",
          "state": {
            "_model_module": "@jupyter-widgets/controls",
            "_model_module_version": "1.5.0",
            "_model_name": "ProgressStyleModel",
            "_view_count": null,
            "_view_module": "@jupyter-widgets/base",
            "_view_module_version": "1.2.0",
            "_view_name": "StyleView",
            "bar_color": null,
            "description_width": ""
          }
        },
        "b426a75436794a8bae012000c2f9e498": {
          "model_module": "@jupyter-widgets/base",
          "model_name": "LayoutModel",
          "model_module_version": "1.2.0",
          "state": {
            "_model_module": "@jupyter-widgets/base",
            "_model_module_version": "1.2.0",
            "_model_name": "LayoutModel",
            "_view_count": null,
            "_view_module": "@jupyter-widgets/base",
            "_view_module_version": "1.2.0",
            "_view_name": "LayoutView",
            "align_content": null,
            "align_items": null,
            "align_self": null,
            "border": null,
            "bottom": null,
            "display": null,
            "flex": null,
            "flex_flow": null,
            "grid_area": null,
            "grid_auto_columns": null,
            "grid_auto_flow": null,
            "grid_auto_rows": null,
            "grid_column": null,
            "grid_gap": null,
            "grid_row": null,
            "grid_template_areas": null,
            "grid_template_columns": null,
            "grid_template_rows": null,
            "height": null,
            "justify_content": null,
            "justify_items": null,
            "left": null,
            "margin": null,
            "max_height": null,
            "max_width": null,
            "min_height": null,
            "min_width": null,
            "object_fit": null,
            "object_position": null,
            "order": null,
            "overflow": null,
            "overflow_x": null,
            "overflow_y": null,
            "padding": null,
            "right": null,
            "top": null,
            "visibility": null,
            "width": null
          }
        },
        "7aac8ab8d99844ccb72b784dba3961c6": {
          "model_module": "@jupyter-widgets/controls",
          "model_name": "DescriptionStyleModel",
          "model_module_version": "1.5.0",
          "state": {
            "_model_module": "@jupyter-widgets/controls",
            "_model_module_version": "1.5.0",
            "_model_name": "DescriptionStyleModel",
            "_view_count": null,
            "_view_module": "@jupyter-widgets/base",
            "_view_module_version": "1.2.0",
            "_view_name": "StyleView",
            "description_width": ""
          }
        }
      }
    }
  },
  "cells": [
    {
      "cell_type": "code",
      "execution_count": 12,
      "metadata": {
        "colab": {
          "base_uri": "https://localhost:8080/"
        },
        "id": "oMzWtxkSYTa2",
        "outputId": "879457b1-d1e4-47c1-815b-3ecca74ac347"
      },
      "outputs": [
        {
          "output_type": "stream",
          "name": "stdout",
          "text": [
            "Requirement already satisfied: transformers in /usr/local/lib/python3.11/dist-packages (4.51.3)\n",
            "Requirement already satisfied: datasets in /usr/local/lib/python3.11/dist-packages (3.5.0)\n",
            "Requirement already satisfied: torch in /usr/local/lib/python3.11/dist-packages (2.6.0+cu124)\n",
            "Requirement already satisfied: scikit-learn in /usr/local/lib/python3.11/dist-packages (1.6.1)\n",
            "Requirement already satisfied: pandas in /usr/local/lib/python3.11/dist-packages (2.2.2)\n",
            "Requirement already satisfied: faiss-cpu in /usr/local/lib/python3.11/dist-packages (1.10.0)\n",
            "Requirement already satisfied: sentence-transformers in /usr/local/lib/python3.11/dist-packages (3.4.1)\n",
            "Requirement already satisfied: filelock in /usr/local/lib/python3.11/dist-packages (from transformers) (3.18.0)\n",
            "Requirement already satisfied: huggingface-hub<1.0,>=0.30.0 in /usr/local/lib/python3.11/dist-packages (from transformers) (0.30.2)\n",
            "Requirement already satisfied: numpy>=1.17 in /usr/local/lib/python3.11/dist-packages (from transformers) (2.0.2)\n",
            "Requirement already satisfied: packaging>=20.0 in /usr/local/lib/python3.11/dist-packages (from transformers) (24.2)\n",
            "Requirement already satisfied: pyyaml>=5.1 in /usr/local/lib/python3.11/dist-packages (from transformers) (6.0.2)\n",
            "Requirement already satisfied: regex!=2019.12.17 in /usr/local/lib/python3.11/dist-packages (from transformers) (2024.11.6)\n",
            "Requirement already satisfied: requests in /usr/local/lib/python3.11/dist-packages (from transformers) (2.32.3)\n",
            "Requirement already satisfied: tokenizers<0.22,>=0.21 in /usr/local/lib/python3.11/dist-packages (from transformers) (0.21.1)\n",
            "Requirement already satisfied: safetensors>=0.4.3 in /usr/local/lib/python3.11/dist-packages (from transformers) (0.5.3)\n",
            "Requirement already satisfied: tqdm>=4.27 in /usr/local/lib/python3.11/dist-packages (from transformers) (4.67.1)\n",
            "Requirement already satisfied: pyarrow>=15.0.0 in /usr/local/lib/python3.11/dist-packages (from datasets) (18.1.0)\n",
            "Requirement already satisfied: dill<0.3.9,>=0.3.0 in /usr/local/lib/python3.11/dist-packages (from datasets) (0.3.8)\n",
            "Requirement already satisfied: xxhash in /usr/local/lib/python3.11/dist-packages (from datasets) (3.5.0)\n",
            "Requirement already satisfied: multiprocess<0.70.17 in /usr/local/lib/python3.11/dist-packages (from datasets) (0.70.16)\n",
            "Requirement already satisfied: fsspec<=2024.12.0,>=2023.1.0 in /usr/local/lib/python3.11/dist-packages (from fsspec[http]<=2024.12.0,>=2023.1.0->datasets) (2024.12.0)\n",
            "Requirement already satisfied: aiohttp in /usr/local/lib/python3.11/dist-packages (from datasets) (3.11.15)\n",
            "Requirement already satisfied: typing-extensions>=4.10.0 in /usr/local/lib/python3.11/dist-packages (from torch) (4.13.2)\n",
            "Requirement already satisfied: networkx in /usr/local/lib/python3.11/dist-packages (from torch) (3.4.2)\n",
            "Requirement already satisfied: jinja2 in /usr/local/lib/python3.11/dist-packages (from torch) (3.1.6)\n",
            "Requirement already satisfied: nvidia-cuda-nvrtc-cu12==12.4.127 in /usr/local/lib/python3.11/dist-packages (from torch) (12.4.127)\n",
            "Requirement already satisfied: nvidia-cuda-runtime-cu12==12.4.127 in /usr/local/lib/python3.11/dist-packages (from torch) (12.4.127)\n",
            "Requirement already satisfied: nvidia-cuda-cupti-cu12==12.4.127 in /usr/local/lib/python3.11/dist-packages (from torch) (12.4.127)\n",
            "Requirement already satisfied: nvidia-cudnn-cu12==9.1.0.70 in /usr/local/lib/python3.11/dist-packages (from torch) (9.1.0.70)\n",
            "Requirement already satisfied: nvidia-cublas-cu12==12.4.5.8 in /usr/local/lib/python3.11/dist-packages (from torch) (12.4.5.8)\n",
            "Requirement already satisfied: nvidia-cufft-cu12==11.2.1.3 in /usr/local/lib/python3.11/dist-packages (from torch) (11.2.1.3)\n",
            "Requirement already satisfied: nvidia-curand-cu12==10.3.5.147 in /usr/local/lib/python3.11/dist-packages (from torch) (10.3.5.147)\n",
            "Requirement already satisfied: nvidia-cusolver-cu12==11.6.1.9 in /usr/local/lib/python3.11/dist-packages (from torch) (11.6.1.9)\n",
            "Requirement already satisfied: nvidia-cusparse-cu12==12.3.1.170 in /usr/local/lib/python3.11/dist-packages (from torch) (12.3.1.170)\n",
            "Requirement already satisfied: nvidia-cusparselt-cu12==0.6.2 in /usr/local/lib/python3.11/dist-packages (from torch) (0.6.2)\n",
            "Requirement already satisfied: nvidia-nccl-cu12==2.21.5 in /usr/local/lib/python3.11/dist-packages (from torch) (2.21.5)\n",
            "Requirement already satisfied: nvidia-nvtx-cu12==12.4.127 in /usr/local/lib/python3.11/dist-packages (from torch) (12.4.127)\n",
            "Requirement already satisfied: nvidia-nvjitlink-cu12==12.4.127 in /usr/local/lib/python3.11/dist-packages (from torch) (12.4.127)\n",
            "Requirement already satisfied: triton==3.2.0 in /usr/local/lib/python3.11/dist-packages (from torch) (3.2.0)\n",
            "Requirement already satisfied: sympy==1.13.1 in /usr/local/lib/python3.11/dist-packages (from torch) (1.13.1)\n",
            "Requirement already satisfied: mpmath<1.4,>=1.1.0 in /usr/local/lib/python3.11/dist-packages (from sympy==1.13.1->torch) (1.3.0)\n",
            "Requirement already satisfied: scipy>=1.6.0 in /usr/local/lib/python3.11/dist-packages (from scikit-learn) (1.14.1)\n",
            "Requirement already satisfied: joblib>=1.2.0 in /usr/local/lib/python3.11/dist-packages (from scikit-learn) (1.4.2)\n",
            "Requirement already satisfied: threadpoolctl>=3.1.0 in /usr/local/lib/python3.11/dist-packages (from scikit-learn) (3.6.0)\n",
            "Requirement already satisfied: python-dateutil>=2.8.2 in /usr/local/lib/python3.11/dist-packages (from pandas) (2.8.2)\n",
            "Requirement already satisfied: pytz>=2020.1 in /usr/local/lib/python3.11/dist-packages (from pandas) (2025.2)\n",
            "Requirement already satisfied: tzdata>=2022.7 in /usr/local/lib/python3.11/dist-packages (from pandas) (2025.2)\n",
            "Requirement already satisfied: Pillow in /usr/local/lib/python3.11/dist-packages (from sentence-transformers) (11.1.0)\n",
            "Requirement already satisfied: aiohappyeyeballs>=2.3.0 in /usr/local/lib/python3.11/dist-packages (from aiohttp->datasets) (2.6.1)\n",
            "Requirement already satisfied: aiosignal>=1.1.2 in /usr/local/lib/python3.11/dist-packages (from aiohttp->datasets) (1.3.2)\n",
            "Requirement already satisfied: attrs>=17.3.0 in /usr/local/lib/python3.11/dist-packages (from aiohttp->datasets) (25.3.0)\n",
            "Requirement already satisfied: frozenlist>=1.1.1 in /usr/local/lib/python3.11/dist-packages (from aiohttp->datasets) (1.5.0)\n",
            "Requirement already satisfied: multidict<7.0,>=4.5 in /usr/local/lib/python3.11/dist-packages (from aiohttp->datasets) (6.4.3)\n",
            "Requirement already satisfied: propcache>=0.2.0 in /usr/local/lib/python3.11/dist-packages (from aiohttp->datasets) (0.3.1)\n",
            "Requirement already satisfied: yarl<2.0,>=1.17.0 in /usr/local/lib/python3.11/dist-packages (from aiohttp->datasets) (1.19.0)\n",
            "Requirement already satisfied: six>=1.5 in /usr/local/lib/python3.11/dist-packages (from python-dateutil>=2.8.2->pandas) (1.17.0)\n",
            "Requirement already satisfied: charset-normalizer<4,>=2 in /usr/local/lib/python3.11/dist-packages (from requests->transformers) (3.4.1)\n",
            "Requirement already satisfied: idna<4,>=2.5 in /usr/local/lib/python3.11/dist-packages (from requests->transformers) (3.10)\n",
            "Requirement already satisfied: urllib3<3,>=1.21.1 in /usr/local/lib/python3.11/dist-packages (from requests->transformers) (2.3.0)\n",
            "Requirement already satisfied: certifi>=2017.4.17 in /usr/local/lib/python3.11/dist-packages (from requests->transformers) (2025.1.31)\n",
            "Requirement already satisfied: MarkupSafe>=2.0 in /usr/local/lib/python3.11/dist-packages (from jinja2->torch) (3.0.2)\n"
          ]
        }
      ],
      "source": [
        "!pip install transformers datasets torch scikit-learn pandas faiss-cpu sentence-transformers\n",
        "\n",
        "import os, zipfile\n",
        "import pandas as pd\n",
        "import torch\n",
        "import faiss\n",
        "import numpy as np\n",
        "from sentence_transformers import SentenceTransformer\n",
        "from transformers import BertTokenizer, BertForSequenceClassification, Trainer, TrainingArguments\n",
        "from sklearn.metrics import accuracy_score, precision_recall_fscore_support, classification_report\n",
        "from torch.utils.data import Dataset\n",
        "from datasets import Dataset as HFDataset"
      ]
    },
    {
      "cell_type": "code",
      "source": [
        "# Build FAISS index from retrieval headlines CSV\n",
        "headlines_df = pd.read_csv(\"live_data_retrieval_headlines.csv\")\n",
        "live_headlines = headlines_df['Headline'].dropna().tolist()\n",
        "\n",
        "# Embed & normalize\n",
        "retrieval_model = SentenceTransformer(\"all-MiniLM-L6-v2\")\n",
        "embs = retrieval_model.encode(live_headlines, convert_to_numpy=True, show_progress_bar=True)\n",
        "faiss.normalize_L2(embs)\n",
        "\n",
        "# Create IndexFlatIP and add vectors\n",
        "d = embs.shape[1]\n",
        "faiss_index = faiss.IndexFlatIP(d)\n",
        "faiss_index.add(embs)\n",
        "\n",
        "print(f\"Built FAISS index with {faiss_index.ntotal} vectors\")"
      ],
      "metadata": {
        "colab": {
          "base_uri": "https://localhost:8080/",
          "height": 66,
          "referenced_widgets": [
            "92164cace87144009303c7a45cd2e586",
            "b5380ff51f604dd49e7f2f5b353d859d",
            "bc4a00e6fee94b3fa91257a0df9cb2a4",
            "80e5bdb65bcf41099ef4cee5d84a3d68",
            "21b14d25f6294ef4a0ef409b162ef958",
            "aac2054f641a495390e40686be0c3fe2",
            "1abc8f7aa41e4228a85d5759cabe048e",
            "d556314ad28f438c8b497285eca07cf4",
            "b3dc70eeec4b4d72a1bd2c9d36b627cd",
            "b426a75436794a8bae012000c2f9e498",
            "7aac8ab8d99844ccb72b784dba3961c6"
          ]
        },
        "id": "srELBXOKE3I3",
        "outputId": "b6533525-5708-4a27-ed8d-bc1814c4af46"
      },
      "execution_count": 5,
      "outputs": [
        {
          "output_type": "display_data",
          "data": {
            "text/plain": [
              "Batches:   0%|          | 0/71 [00:00<?, ?it/s]"
            ],
            "application/vnd.jupyter.widget-view+json": {
              "version_major": 2,
              "version_minor": 0,
              "model_id": "92164cace87144009303c7a45cd2e586"
            }
          },
          "metadata": {}
        },
        {
          "output_type": "stream",
          "name": "stdout",
          "text": [
            "Built FAISS index with 2247 vectors\n"
          ]
        }
      ]
    },
    {
      "cell_type": "code",
      "source": [
        "faiss.write_index(faiss_index, \"faiss_live_headlines.index\")\n",
        "print(\"FAISS index saved as 'faiss_live_headlines.index'\")"
      ],
      "metadata": {
        "colab": {
          "base_uri": "https://localhost:8080/"
        },
        "id": "4aSvH4NTHcuG",
        "outputId": "aad50bb4-eef8-4485-b4e3-f021fe54e5c3"
      },
      "execution_count": 6,
      "outputs": [
        {
          "output_type": "stream",
          "name": "stdout",
          "text": [
            "FAISS index saved as 'faiss_live_headlines.index'\n"
          ]
        }
      ]
    },
    {
      "cell_type": "code",
      "source": [
        "# Load & preprocess live test dataset\n",
        "test_df = pd.read_csv(\"politifact-sample.csv\")\n",
        "test_df = test_df.dropna(subset=['title','label'])\n",
        "test_df['label'] = test_df['label'].astype(int)\n",
        "test_df.reset_index(drop=True, inplace=True)\n",
        "print(f\"Loaded test set: {len(test_df)} samples\")"
      ],
      "metadata": {
        "colab": {
          "base_uri": "https://localhost:8080/"
        },
        "id": "GNX0IUlhFZ4A",
        "outputId": "5998753f-6a42-48fa-8bbf-870abb56975f"
      },
      "execution_count": 2,
      "outputs": [
        {
          "output_type": "stream",
          "name": "stdout",
          "text": [
            "Loaded test set: 2777 samples\n"
          ]
        }
      ]
    },
    {
      "cell_type": "code",
      "source": [
        "# Retrieval + Input‐prep functions & Dataset class\n",
        "def search_similar_articles(query_headline, model, faiss_index, headlines, k=3):\n",
        "    q = query_headline.strip().lower()\n",
        "    q_emb = model.encode([q], convert_to_numpy=True)\n",
        "    faiss.normalize_L2(q_emb)\n",
        "    distances, indices = faiss_index.search(q_emb, k)\n",
        "    results = []\n",
        "    for rank, idx in enumerate(indices[0]):\n",
        "        if idx < 0: continue\n",
        "        results.append(f\"{headlines[idx]} (dist: {distances[0][rank]:.4f})\")\n",
        "    return results\n",
        "\n",
        "def prepare_input(article, facts, tokenizer, max_length=512):\n",
        "    art_tokens = tokenizer.encode(article, add_special_tokens=False)\n",
        "    input_ids = [tokenizer.cls_token_id] + art_tokens + [tokenizer.sep_token_id]\n",
        "    tt = [0]*(len(art_tokens)+2)\n",
        "    for fact in facts:\n",
        "        f_tokens = tokenizer.encode(fact, add_special_tokens=False)\n",
        "        input_ids += f_tokens + [tokenizer.sep_token_id]\n",
        "        tt += [1]*(len(f_tokens)+1)\n",
        "    am = [1]*len(input_ids)\n",
        "    if len(input_ids)>max_length:\n",
        "        input_ids, tt, am = input_ids[:max_length], tt[:max_length], am[:max_length]\n",
        "    else:\n",
        "        pad = max_length-len(input_ids)\n",
        "        input_ids += [tokenizer.pad_token_id]*pad\n",
        "        tt += [0]*pad\n",
        "        am += [0]*pad\n",
        "    return {\n",
        "        'input_ids': torch.tensor(input_ids),\n",
        "        'token_type_ids': torch.tensor(tt),\n",
        "        'attention_mask': torch.tensor(am)\n",
        "    }\n",
        "\n",
        "class FakeNewsDataset(Dataset):\n",
        "    def __init__(self, df, tokenizer, retrieval_model, faiss_index, headlines, max_length=512):\n",
        "        self.df = df.reset_index(drop=True)\n",
        "        self.tokenizer, self.rm, self.idx, self.hd = tokenizer, retrieval_model, faiss_index, headlines\n",
        "        self.max_length = max_length\n",
        "    def __len__(self): return len(self.df)\n",
        "    def __getitem__(self, i):\n",
        "        row = self.df.iloc[i]\n",
        "        art, lbl = row['title'], row['label']\n",
        "        facts = search_similar_articles(art, self.rm, self.idx, self.hd, k=3)\n",
        "        enc = prepare_input(art, facts, self.tokenizer, self.max_length)\n",
        "        enc['labels'] = torch.tensor(lbl, dtype=torch.long)\n",
        "        return enc\n"
      ],
      "metadata": {
        "id": "EDljYqpzFn4l"
      },
      "execution_count": 8,
      "outputs": []
    },
    {
      "cell_type": "code",
      "source": [
        "# Unzip & load fine‐tuned RAG model\n",
        "with zipfile.ZipFile(\"fine_tuned_bert_update_4_RAG.zip\",\"r\") as z:\n",
        "    z.extractall(\"fine_tuned_bert_update_4_RAG\")\n",
        "\n",
        "model_dir = \"fine_tuned_bert_update_4_RAG\"\n",
        "model = BertForSequenceClassification.from_pretrained(model_dir, num_labels=2)\n",
        "tokenizer = BertTokenizer.from_pretrained(model_dir)\n"
      ],
      "metadata": {
        "id": "DeR1xsowF1dE"
      },
      "execution_count": 9,
      "outputs": []
    },
    {
      "cell_type": "code",
      "source": [
        "# Prepare dataset & define metrics\n",
        "test_dataset = FakeNewsDataset(test_df, tokenizer, retrieval_model, faiss_index, live_headlines)\n",
        "\n",
        "def compute_metrics(pred):\n",
        "    logits, labels = pred\n",
        "    preds = np.argmax(logits, axis=-1)\n",
        "    acc = accuracy_score(labels, preds)\n",
        "    return {\"accuracy\": acc}\n",
        "\n",
        "args = TrainingArguments(\n",
        "    output_dir=\"./eval_live\",\n",
        "    per_device_eval_batch_size=8,\n",
        "    report_to=\"none\"\n",
        ")\n",
        "\n",
        "trainer = Trainer(\n",
        "    model=model,\n",
        "    args=args,\n",
        "    eval_dataset=test_dataset,\n",
        "    compute_metrics=compute_metrics\n",
        ")\n"
      ],
      "metadata": {
        "id": "IvoL1LXeF8Eg"
      },
      "execution_count": 10,
      "outputs": []
    },
    {
      "cell_type": "code",
      "source": [
        "# Cell 8: Run evaluation\n",
        "metrics = trainer.evaluate()\n",
        "print(\"Evaluation metrics:\", metrics)\n",
        "\n",
        "from sklearn.metrics import classification_report\n",
        "preds_out = trainer.predict(test_dataset)\n",
        "y_true, y_pred = preds_out.label_ids, np.argmax(preds_out.predictions, axis=-1)\n",
        "print(classification_report(y_true, y_pred, target_names=[\"Fake\",\"Real\"]))"
      ],
      "metadata": {
        "colab": {
          "base_uri": "https://localhost:8080/",
          "height": 211
        },
        "id": "4rnPiEvDKVBh",
        "outputId": "87b305df-c51d-47ba-95df-071534f973a9"
      },
      "execution_count": 11,
      "outputs": [
        {
          "output_type": "display_data",
          "data": {
            "text/plain": [
              "<IPython.core.display.HTML object>"
            ],
            "text/html": []
          },
          "metadata": {}
        },
        {
          "output_type": "stream",
          "name": "stdout",
          "text": [
            "Evaluation metrics: {'eval_loss': 0.3867934048175812, 'eval_model_preparation_time': 0.0057, 'eval_accuracy': 0.9150162045372704, 'eval_runtime': 104.2114, 'eval_samples_per_second': 26.648, 'eval_steps_per_second': 3.339}\n",
            "              precision    recall  f1-score   support\n",
            "\n",
            "        Fake       0.94      0.97      0.95      2512\n",
            "        Real       0.58      0.39      0.47       265\n",
            "\n",
            "    accuracy                           0.92      2777\n",
            "   macro avg       0.76      0.68      0.71      2777\n",
            "weighted avg       0.90      0.92      0.91      2777\n",
            "\n"
          ]
        }
      ]
    },
    {
      "cell_type": "code",
      "source": [
        "counts = test_df['label'].value_counts().sort_index()\n",
        "print(f\"Number of Fake examples (label 0): {counts.get(0, 0)}\")\n",
        "print(f\"Number of Real examples (label 1): {counts.get(1, 0)}\")"
      ],
      "metadata": {
        "colab": {
          "base_uri": "https://localhost:8080/"
        },
        "id": "W2mof2TwOxAG",
        "outputId": "4beef031-d614-438d-c669-f11c3ea1f96c"
      },
      "execution_count": 12,
      "outputs": [
        {
          "output_type": "stream",
          "name": "stdout",
          "text": [
            "Number of Fake examples (label 0): 2512\n",
            "Number of Real examples (label 1): 265\n"
          ]
        }
      ]
    },
    {
      "cell_type": "code",
      "source": [
        "# CL Models Test\n",
        "with zipfile.ZipFile(\"fine_tuned_bert_initial.zip\", \"r\") as z:\n",
        "    z.extractall(\"fine_tuned_bert_initial\")\n",
        "\n",
        "cl_model_dir = \"fine_tuned_bert_initial\"\n",
        "cl_model = BertForSequenceClassification.from_pretrained(cl_model_dir, num_labels=2)\n",
        "cl_tokenizer = BertTokenizer.from_pretrained(cl_model_dir)"
      ],
      "metadata": {
        "id": "IibWS3Cfq9cr"
      },
      "execution_count": 7,
      "outputs": []
    },
    {
      "cell_type": "code",
      "source": [
        "## Prepare Test Dataset for CL Model\n",
        "\n",
        "def tokenize_function(texts):\n",
        "    return cl_tokenizer(texts, padding=\"max_length\", truncation=True, max_length=128)\n",
        "\n",
        "# Tokenize all test titles\n",
        "test_texts = test_df['title'].tolist()\n",
        "test_labels = test_df['label'].tolist()\n",
        "test_encodings = tokenize_function(test_texts)\n",
        "\n",
        "# Build HuggingFace Dataset\n",
        "cl_test_dataset = HFDataset.from_dict({\n",
        "    \"input_ids\": test_encodings[\"input_ids\"],\n",
        "    \"attention_mask\": test_encodings[\"attention_mask\"],\n",
        "    \"labels\": test_labels,\n",
        "})"
      ],
      "metadata": {
        "id": "uzRQwj7osUlV"
      },
      "execution_count": 10,
      "outputs": []
    },
    {
      "cell_type": "code",
      "source": [
        "## Evaluate Continual‑Learning Models\n",
        "cl_eval_args = TrainingArguments(\n",
        "    output_dir=\"./cl_eval\",\n",
        "    per_device_eval_batch_size=16,\n",
        "    report_to=\"none\"\n",
        ")\n",
        "\n",
        "def compute_metrics_cl(eval_pred):\n",
        "    logits, labels = eval_pred\n",
        "    preds = np.argmax(logits, axis=-1)\n",
        "    acc = accuracy_score(labels, preds)\n",
        "    prec, rec, f1, _ = precision_recall_fscore_support(labels, preds, labels=[0,1])\n",
        "    return {\n",
        "        \"accuracy\": acc,\n",
        "        \"precision_fake\": prec[0], \"recall_fake\": rec[0], \"f1_fake\": f1[0],\n",
        "        \"precision_real\": prec[1], \"recall_real\": rec[1], \"f1_real\": f1[1]\n",
        "    }\n",
        "\n",
        "cl_trainer = Trainer(\n",
        "    model=cl_model,\n",
        "    args=cl_eval_args,\n",
        "    eval_dataset=cl_test_dataset,\n",
        "    compute_metrics=compute_metrics_cl\n",
        ")\n",
        "\n",
        "# Run evaluation\n",
        "cl_metrics = cl_trainer.evaluate()\n",
        "print(\"Continual‑Learning Model Metrics:\", cl_metrics)\n",
        "\n",
        "# Detailed classification report\n",
        "cl_preds = cl_trainer.predict(cl_test_dataset)\n",
        "y_true, y_pred = cl_preds.label_ids, np.argmax(cl_preds.predictions, axis=-1)\n",
        "print(\"Continual Learning Baseline Period:\")\n",
        "print(classification_report(y_true, y_pred, target_names=[\"Fake\",\"Real\"]))\n"
      ],
      "metadata": {
        "colab": {
          "base_uri": "https://localhost:8080/",
          "height": 228
        },
        "id": "UABIIQxOsjQI",
        "outputId": "0ed3c66d-8a41-4c76-975b-985b159a424c"
      },
      "execution_count": 13,
      "outputs": [
        {
          "output_type": "display_data",
          "data": {
            "text/plain": [
              "<IPython.core.display.HTML object>"
            ],
            "text/html": []
          },
          "metadata": {}
        },
        {
          "output_type": "stream",
          "name": "stdout",
          "text": [
            "Continual‑Learning Model Metrics: {'eval_loss': 0.4858787953853607, 'eval_model_preparation_time': 0.0066, 'eval_accuracy': 0.7850198055455527, 'eval_precision_fake': 0.9601153291686689, 'eval_recall_fake': 0.7953821656050956, 'eval_f1_fake': 0.8700195950359242, 'eval_precision_real': 0.2614942528735632, 'eval_recall_real': 0.6867924528301886, 'eval_f1_real': 0.37877211238293446, 'eval_runtime': 21.9764, 'eval_samples_per_second': 126.363, 'eval_steps_per_second': 7.918}\n",
            "Continual Learning Baseline Period:\n",
            "              precision    recall  f1-score   support\n",
            "\n",
            "        Fake       0.96      0.80      0.87      2512\n",
            "        Real       0.26      0.69      0.38       265\n",
            "\n",
            "    accuracy                           0.79      2777\n",
            "   macro avg       0.61      0.74      0.62      2777\n",
            "weighted avg       0.89      0.79      0.82      2777\n",
            "\n"
          ]
        }
      ]
    },
    {
      "cell_type": "code",
      "source": [
        "# Period 4 CL Model\n",
        "with zipfile.ZipFile(\"fine_tuned_bert_update_4_(2022).zip\", \"r\") as z:\n",
        "    z.extractall(\"fine_tuned_bert_update_4_(2022)\")\n",
        "\n",
        "period4_cl_model_dir = \"fine_tuned_bert_update_4_(2022)\"\n",
        "period4_cl_model = BertForSequenceClassification.from_pretrained(period4_cl_model_dir, num_labels=2)\n",
        "period4_cl_tokenizer = BertTokenizer.from_pretrained(period4_cl_model_dir)\n"
      ],
      "metadata": {
        "id": "iHGqx3iVs694"
      },
      "execution_count": 14,
      "outputs": []
    },
    {
      "cell_type": "code",
      "source": [
        "cl_p4_trainer = Trainer(\n",
        "    model=period4_cl_model,\n",
        "    args=cl_eval_args,\n",
        "    eval_dataset=cl_test_dataset,\n",
        "    compute_metrics=compute_metrics_cl\n",
        ")\n",
        "\n",
        "cl_eval_result = cl_p4_trainer.evaluate()\n",
        "print(cl_eval_result)\n",
        "\n",
        "cl_p4_preds = cl_p4_trainer.predict(cl_test_dataset)\n",
        "y_true, y_pred = cl_p4_preds.label_ids, np.argmax(cl_p4_preds.predictions, axis=-1)\n",
        "print(\"Continual Learning Period 4:\")\n",
        "print(classification_report(y_true, y_pred, target_names=[\"Fake\",\"Real\"]))"
      ],
      "metadata": {
        "colab": {
          "base_uri": "https://localhost:8080/",
          "height": 228
        },
        "id": "m48RxWGatAhL",
        "outputId": "d2a99992-1a40-482e-ec4a-5b8cdd5a65af"
      },
      "execution_count": 16,
      "outputs": [
        {
          "output_type": "display_data",
          "data": {
            "text/plain": [
              "<IPython.core.display.HTML object>"
            ],
            "text/html": []
          },
          "metadata": {}
        },
        {
          "output_type": "stream",
          "name": "stdout",
          "text": [
            "{'eval_loss': 0.2675170302391052, 'eval_model_preparation_time': 0.0028, 'eval_accuracy': 0.9146561037090385, 'eval_precision_fake': 0.9533678756476683, 'eval_recall_fake': 0.9522292993630573, 'eval_f1_fake': 0.9527982473610834, 'eval_precision_real': 0.5522388059701493, 'eval_recall_real': 0.5584905660377358, 'eval_f1_real': 0.5553470919324578, 'eval_runtime': 20.0882, 'eval_samples_per_second': 138.241, 'eval_steps_per_second': 8.662}\n",
            "Continual Learning Period 4:\n",
            "              precision    recall  f1-score   support\n",
            "\n",
            "        Fake       0.95      0.95      0.95      2512\n",
            "        Real       0.55      0.56      0.56       265\n",
            "\n",
            "    accuracy                           0.91      2777\n",
            "   macro avg       0.75      0.76      0.75      2777\n",
            "weighted avg       0.92      0.91      0.91      2777\n",
            "\n"
          ]
        }
      ]
    }
  ]
}